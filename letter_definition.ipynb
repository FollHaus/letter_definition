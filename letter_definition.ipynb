{
 "cells": [
  {
   "metadata": {},
   "cell_type": "markdown",
   "source": [
    "# Классификация изображений с помощью сверточных нейронных сетей (CNN) в Keras\n",
    "\n",
    "В рамках данного проекта мы обучим нейросеть распознавать рукописные английские буквы."
   ],
   "id": "5e31ce9aa54148ea"
  },
  {
   "metadata": {
    "ExecuteTime": {
     "end_time": "2025-02-03T11:53:24.342319Z",
     "start_time": "2025-02-03T11:53:24.338309Z"
    }
   },
   "cell_type": "code",
   "source": [
    "# Импорт библиотек\n",
    "import keras\n",
    "import numpy as np\n",
    "import pandas as pd\n",
    "import matplotlib.pyplot as plt\n",
    "from keras.api.optimizers import Adam\n",
    "from keras.api.models import load_model\n",
    "from keras.src.callbacks import EarlyStopping\n",
    "from sklearn.model_selection import train_test_split\n",
    "from keras.src.layers import Dense, Flatten, Conv2D,Dropout, MaxPooling2D,InputLayer"
   ],
   "id": "950f6eeea9042aa4",
   "outputs": [],
   "execution_count": 68
  },
  {
   "metadata": {},
   "cell_type": "markdown",
   "source": [
    "**Использование ```astype('float32') ``` может значительно сократить объем занимаемой памяти.**\n",
    "\n",
    "Почему это особенно выгодно в нашем случае:\n",
    "\n",
    "Пиксели обычно находятся в диапазоне от ```0-255 ``` (uint8) или нормализованные ```0-1 ```. ```float32 ``` способен точно представлять эти значения без какой-либо значительной потери данных.\n",
    "\n",
    "```int64 ``` занимает 8 байт на число, в то время как ```float32 ``` требует всего 4 байта, что означает экономию в 50% памяти."
   ],
   "id": "d0e9285185f231c3"
  },
  {
   "metadata": {
    "ExecuteTime": {
     "end_time": "2025-02-03T11:53:51.306030Z",
     "start_time": "2025-02-03T11:53:24.377537Z"
    }
   },
   "cell_type": "code",
   "source": [
    "# Чтение датасета.\n",
    "df = pd.read_csv('dataset/A_Z_Handwritten_Data.csv')\n",
    "memory = df.memory_usage(deep=True).sum()\n",
    "df.info() # Имеет тип int64, который занимает 8 байт на число.\n",
    "print(f\"До преобразования: {memory / 1e9:.1f} GB\")"
   ],
   "id": "755ba5c4f27c0ffe",
   "outputs": [
    {
     "name": "stdout",
     "output_type": "stream",
     "text": [
      "<class 'pandas.core.frame.DataFrame'>\n",
      "RangeIndex: 372450 entries, 0 to 372449\n",
      "Columns: 785 entries, 0 to 0.648\n",
      "dtypes: int64(785)\n",
      "memory usage: 2.2 GB\n",
      "До преобразования: 2.3 GB\n"
     ]
    }
   ],
   "execution_count": 69
  },
  {
   "metadata": {},
   "cell_type": "markdown",
   "source": "Почему мы используем ```float32```, а не ```int32```. Нам требуются высокоточные данные без потери дробной части.",
   "id": "f8c197b30a78704b"
  },
  {
   "metadata": {
    "ExecuteTime": {
     "end_time": "2025-02-03T11:53:51.935299Z",
     "start_time": "2025-02-03T11:53:51.314582Z"
    }
   },
   "cell_type": "code",
   "source": [
    "df = df.astype('float32')\n",
    "memory = df.memory_usage(deep=True).sum()\n",
    "df.info() # Теперь тип float32, который занимает 4 байт на число.\n",
    "print(f\"После преобразования в float32: {memory / 1e9:.1f} GB\")"
   ],
   "id": "aba1dfe974070c45",
   "outputs": [
    {
     "name": "stdout",
     "output_type": "stream",
     "text": [
      "<class 'pandas.core.frame.DataFrame'>\n",
      "RangeIndex: 372450 entries, 0 to 372449\n",
      "Columns: 785 entries, 0 to 0.648\n",
      "dtypes: float32(785)\n",
      "memory usage: 1.1 GB\n",
      "После преобразования в float32: 1.2 GB\n"
     ]
    }
   ],
   "execution_count": 70
  },
  {
   "metadata": {},
   "cell_type": "markdown",
   "source": [
    "**Что у нас есть?**\n",
    "- **372 450 строк**\n",
    "- **785 столбцов, которые представляют пиксели**"
   ],
   "id": "40bfb9818489f27e"
  },
  {
   "metadata": {
    "ExecuteTime": {
     "end_time": "2025-02-03T11:53:52.035618Z",
     "start_time": "2025-02-03T11:53:52.031551Z"
    }
   },
   "cell_type": "code",
   "source": "df.shape",
   "id": "78c179206f34799a",
   "outputs": [
    {
     "data": {
      "text/plain": [
       "(372450, 785)"
      ]
     },
     "execution_count": 71,
     "metadata": {},
     "output_type": "execute_result"
    }
   ],
   "execution_count": 71
  },
  {
   "metadata": {},
   "cell_type": "markdown",
   "source": "Давайте проверим, нет ли в наборе null значений.",
   "id": "3c350a94903aa600"
  },
  {
   "metadata": {
    "ExecuteTime": {
     "end_time": "2025-02-03T12:38:02.735635Z",
     "start_time": "2025-02-03T12:38:02.367181Z"
    }
   },
   "cell_type": "code",
   "source": "df.isnull().sum()",
   "id": "eff14ae8e572e538",
   "outputs": [
    {
     "data": {
      "text/plain": [
       "0        0\n",
       "0.1      0\n",
       "0.2      0\n",
       "0.3      0\n",
       "0.4      0\n",
       "        ..\n",
       "0.644    0\n",
       "0.645    0\n",
       "0.646    0\n",
       "0.647    0\n",
       "0.648    0\n",
       "Length: 785, dtype: int64"
      ]
     },
     "execution_count": 100,
     "metadata": {},
     "output_type": "execute_result"
    }
   ],
   "execution_count": 100
  },
  {
   "metadata": {
    "ExecuteTime": {
     "end_time": "2025-02-03T11:53:52.102868Z",
     "start_time": "2025-02-03T11:53:52.063921Z"
    }
   },
   "cell_type": "code",
   "source": "df.info()",
   "id": "9ddd4cb632cee062",
   "outputs": [
    {
     "name": "stdout",
     "output_type": "stream",
     "text": [
      "<class 'pandas.core.frame.DataFrame'>\n",
      "RangeIndex: 372450 entries, 0 to 372449\n",
      "Columns: 785 entries, 0 to 0.648\n",
      "dtypes: float32(785)\n",
      "memory usage: 1.1 GB\n"
     ]
    }
   ],
   "execution_count": 72
  },
  {
   "metadata": {},
   "cell_type": "markdown",
   "source": "Давайте взглянем на эти данные. В первой колонке расположены наши буквенные обозначения: от ```0-A``` до ```25-Z```.",
   "id": "1d829a26b8191e8d"
  },
  {
   "metadata": {
    "ExecuteTime": {
     "end_time": "2025-02-03T11:53:52.187488Z",
     "start_time": "2025-02-03T11:53:52.132018Z"
    }
   },
   "cell_type": "code",
   "source": "df",
   "id": "7362b6d8f2c9d0b5",
   "outputs": [
    {
     "data": {
      "text/plain": [
       "           0  0.1  0.2  0.3  0.4  0.5  0.6  0.7  0.8  0.9  ...  0.639  0.640  \\\n",
       "0        0.0  0.0  0.0  0.0  0.0  0.0  0.0  0.0  0.0  0.0  ...    0.0    0.0   \n",
       "1        0.0  0.0  0.0  0.0  0.0  0.0  0.0  0.0  0.0  0.0  ...    0.0    0.0   \n",
       "2        0.0  0.0  0.0  0.0  0.0  0.0  0.0  0.0  0.0  0.0  ...    0.0    0.0   \n",
       "3        0.0  0.0  0.0  0.0  0.0  0.0  0.0  0.0  0.0  0.0  ...    0.0    0.0   \n",
       "4        0.0  0.0  0.0  0.0  0.0  0.0  0.0  0.0  0.0  0.0  ...    0.0    0.0   \n",
       "...      ...  ...  ...  ...  ...  ...  ...  ...  ...  ...  ...    ...    ...   \n",
       "372445  25.0  0.0  0.0  0.0  0.0  0.0  0.0  0.0  0.0  0.0  ...    0.0    0.0   \n",
       "372446  25.0  0.0  0.0  0.0  0.0  0.0  0.0  0.0  0.0  0.0  ...    0.0    0.0   \n",
       "372447  25.0  0.0  0.0  0.0  0.0  0.0  0.0  0.0  0.0  0.0  ...    0.0    0.0   \n",
       "372448  25.0  0.0  0.0  0.0  0.0  0.0  0.0  0.0  0.0  0.0  ...    0.0    0.0   \n",
       "372449  25.0  0.0  0.0  0.0  0.0  0.0  0.0  0.0  0.0  0.0  ...    0.0    0.0   \n",
       "\n",
       "        0.641  0.642  0.643  0.644  0.645  0.646  0.647  0.648  \n",
       "0         0.0    0.0    0.0    0.0    0.0    0.0    0.0    0.0  \n",
       "1         0.0    0.0    0.0    0.0    0.0    0.0    0.0    0.0  \n",
       "2         0.0    0.0    0.0    0.0    0.0    0.0    0.0    0.0  \n",
       "3         0.0    0.0    0.0    0.0    0.0    0.0    0.0    0.0  \n",
       "4         0.0    0.0    0.0    0.0    0.0    0.0    0.0    0.0  \n",
       "...       ...    ...    ...    ...    ...    ...    ...    ...  \n",
       "372445    0.0    0.0    0.0    0.0    0.0    0.0    0.0    0.0  \n",
       "372446    0.0    0.0    0.0    0.0    0.0    0.0    0.0    0.0  \n",
       "372447    0.0    0.0    0.0    0.0    0.0    0.0    0.0    0.0  \n",
       "372448    0.0    0.0    0.0    0.0    0.0    0.0    0.0    0.0  \n",
       "372449    0.0    0.0    0.0    0.0    0.0    0.0    0.0    0.0  \n",
       "\n",
       "[372450 rows x 785 columns]"
      ],
      "text/html": [
       "<div>\n",
       "<style scoped>\n",
       "    .dataframe tbody tr th:only-of-type {\n",
       "        vertical-align: middle;\n",
       "    }\n",
       "\n",
       "    .dataframe tbody tr th {\n",
       "        vertical-align: top;\n",
       "    }\n",
       "\n",
       "    .dataframe thead th {\n",
       "        text-align: right;\n",
       "    }\n",
       "</style>\n",
       "<table border=\"1\" class=\"dataframe\">\n",
       "  <thead>\n",
       "    <tr style=\"text-align: right;\">\n",
       "      <th></th>\n",
       "      <th>0</th>\n",
       "      <th>0.1</th>\n",
       "      <th>0.2</th>\n",
       "      <th>0.3</th>\n",
       "      <th>0.4</th>\n",
       "      <th>0.5</th>\n",
       "      <th>0.6</th>\n",
       "      <th>0.7</th>\n",
       "      <th>0.8</th>\n",
       "      <th>0.9</th>\n",
       "      <th>...</th>\n",
       "      <th>0.639</th>\n",
       "      <th>0.640</th>\n",
       "      <th>0.641</th>\n",
       "      <th>0.642</th>\n",
       "      <th>0.643</th>\n",
       "      <th>0.644</th>\n",
       "      <th>0.645</th>\n",
       "      <th>0.646</th>\n",
       "      <th>0.647</th>\n",
       "      <th>0.648</th>\n",
       "    </tr>\n",
       "  </thead>\n",
       "  <tbody>\n",
       "    <tr>\n",
       "      <th>0</th>\n",
       "      <td>0.0</td>\n",
       "      <td>0.0</td>\n",
       "      <td>0.0</td>\n",
       "      <td>0.0</td>\n",
       "      <td>0.0</td>\n",
       "      <td>0.0</td>\n",
       "      <td>0.0</td>\n",
       "      <td>0.0</td>\n",
       "      <td>0.0</td>\n",
       "      <td>0.0</td>\n",
       "      <td>...</td>\n",
       "      <td>0.0</td>\n",
       "      <td>0.0</td>\n",
       "      <td>0.0</td>\n",
       "      <td>0.0</td>\n",
       "      <td>0.0</td>\n",
       "      <td>0.0</td>\n",
       "      <td>0.0</td>\n",
       "      <td>0.0</td>\n",
       "      <td>0.0</td>\n",
       "      <td>0.0</td>\n",
       "    </tr>\n",
       "    <tr>\n",
       "      <th>1</th>\n",
       "      <td>0.0</td>\n",
       "      <td>0.0</td>\n",
       "      <td>0.0</td>\n",
       "      <td>0.0</td>\n",
       "      <td>0.0</td>\n",
       "      <td>0.0</td>\n",
       "      <td>0.0</td>\n",
       "      <td>0.0</td>\n",
       "      <td>0.0</td>\n",
       "      <td>0.0</td>\n",
       "      <td>...</td>\n",
       "      <td>0.0</td>\n",
       "      <td>0.0</td>\n",
       "      <td>0.0</td>\n",
       "      <td>0.0</td>\n",
       "      <td>0.0</td>\n",
       "      <td>0.0</td>\n",
       "      <td>0.0</td>\n",
       "      <td>0.0</td>\n",
       "      <td>0.0</td>\n",
       "      <td>0.0</td>\n",
       "    </tr>\n",
       "    <tr>\n",
       "      <th>2</th>\n",
       "      <td>0.0</td>\n",
       "      <td>0.0</td>\n",
       "      <td>0.0</td>\n",
       "      <td>0.0</td>\n",
       "      <td>0.0</td>\n",
       "      <td>0.0</td>\n",
       "      <td>0.0</td>\n",
       "      <td>0.0</td>\n",
       "      <td>0.0</td>\n",
       "      <td>0.0</td>\n",
       "      <td>...</td>\n",
       "      <td>0.0</td>\n",
       "      <td>0.0</td>\n",
       "      <td>0.0</td>\n",
       "      <td>0.0</td>\n",
       "      <td>0.0</td>\n",
       "      <td>0.0</td>\n",
       "      <td>0.0</td>\n",
       "      <td>0.0</td>\n",
       "      <td>0.0</td>\n",
       "      <td>0.0</td>\n",
       "    </tr>\n",
       "    <tr>\n",
       "      <th>3</th>\n",
       "      <td>0.0</td>\n",
       "      <td>0.0</td>\n",
       "      <td>0.0</td>\n",
       "      <td>0.0</td>\n",
       "      <td>0.0</td>\n",
       "      <td>0.0</td>\n",
       "      <td>0.0</td>\n",
       "      <td>0.0</td>\n",
       "      <td>0.0</td>\n",
       "      <td>0.0</td>\n",
       "      <td>...</td>\n",
       "      <td>0.0</td>\n",
       "      <td>0.0</td>\n",
       "      <td>0.0</td>\n",
       "      <td>0.0</td>\n",
       "      <td>0.0</td>\n",
       "      <td>0.0</td>\n",
       "      <td>0.0</td>\n",
       "      <td>0.0</td>\n",
       "      <td>0.0</td>\n",
       "      <td>0.0</td>\n",
       "    </tr>\n",
       "    <tr>\n",
       "      <th>4</th>\n",
       "      <td>0.0</td>\n",
       "      <td>0.0</td>\n",
       "      <td>0.0</td>\n",
       "      <td>0.0</td>\n",
       "      <td>0.0</td>\n",
       "      <td>0.0</td>\n",
       "      <td>0.0</td>\n",
       "      <td>0.0</td>\n",
       "      <td>0.0</td>\n",
       "      <td>0.0</td>\n",
       "      <td>...</td>\n",
       "      <td>0.0</td>\n",
       "      <td>0.0</td>\n",
       "      <td>0.0</td>\n",
       "      <td>0.0</td>\n",
       "      <td>0.0</td>\n",
       "      <td>0.0</td>\n",
       "      <td>0.0</td>\n",
       "      <td>0.0</td>\n",
       "      <td>0.0</td>\n",
       "      <td>0.0</td>\n",
       "    </tr>\n",
       "    <tr>\n",
       "      <th>...</th>\n",
       "      <td>...</td>\n",
       "      <td>...</td>\n",
       "      <td>...</td>\n",
       "      <td>...</td>\n",
       "      <td>...</td>\n",
       "      <td>...</td>\n",
       "      <td>...</td>\n",
       "      <td>...</td>\n",
       "      <td>...</td>\n",
       "      <td>...</td>\n",
       "      <td>...</td>\n",
       "      <td>...</td>\n",
       "      <td>...</td>\n",
       "      <td>...</td>\n",
       "      <td>...</td>\n",
       "      <td>...</td>\n",
       "      <td>...</td>\n",
       "      <td>...</td>\n",
       "      <td>...</td>\n",
       "      <td>...</td>\n",
       "      <td>...</td>\n",
       "    </tr>\n",
       "    <tr>\n",
       "      <th>372445</th>\n",
       "      <td>25.0</td>\n",
       "      <td>0.0</td>\n",
       "      <td>0.0</td>\n",
       "      <td>0.0</td>\n",
       "      <td>0.0</td>\n",
       "      <td>0.0</td>\n",
       "      <td>0.0</td>\n",
       "      <td>0.0</td>\n",
       "      <td>0.0</td>\n",
       "      <td>0.0</td>\n",
       "      <td>...</td>\n",
       "      <td>0.0</td>\n",
       "      <td>0.0</td>\n",
       "      <td>0.0</td>\n",
       "      <td>0.0</td>\n",
       "      <td>0.0</td>\n",
       "      <td>0.0</td>\n",
       "      <td>0.0</td>\n",
       "      <td>0.0</td>\n",
       "      <td>0.0</td>\n",
       "      <td>0.0</td>\n",
       "    </tr>\n",
       "    <tr>\n",
       "      <th>372446</th>\n",
       "      <td>25.0</td>\n",
       "      <td>0.0</td>\n",
       "      <td>0.0</td>\n",
       "      <td>0.0</td>\n",
       "      <td>0.0</td>\n",
       "      <td>0.0</td>\n",
       "      <td>0.0</td>\n",
       "      <td>0.0</td>\n",
       "      <td>0.0</td>\n",
       "      <td>0.0</td>\n",
       "      <td>...</td>\n",
       "      <td>0.0</td>\n",
       "      <td>0.0</td>\n",
       "      <td>0.0</td>\n",
       "      <td>0.0</td>\n",
       "      <td>0.0</td>\n",
       "      <td>0.0</td>\n",
       "      <td>0.0</td>\n",
       "      <td>0.0</td>\n",
       "      <td>0.0</td>\n",
       "      <td>0.0</td>\n",
       "    </tr>\n",
       "    <tr>\n",
       "      <th>372447</th>\n",
       "      <td>25.0</td>\n",
       "      <td>0.0</td>\n",
       "      <td>0.0</td>\n",
       "      <td>0.0</td>\n",
       "      <td>0.0</td>\n",
       "      <td>0.0</td>\n",
       "      <td>0.0</td>\n",
       "      <td>0.0</td>\n",
       "      <td>0.0</td>\n",
       "      <td>0.0</td>\n",
       "      <td>...</td>\n",
       "      <td>0.0</td>\n",
       "      <td>0.0</td>\n",
       "      <td>0.0</td>\n",
       "      <td>0.0</td>\n",
       "      <td>0.0</td>\n",
       "      <td>0.0</td>\n",
       "      <td>0.0</td>\n",
       "      <td>0.0</td>\n",
       "      <td>0.0</td>\n",
       "      <td>0.0</td>\n",
       "    </tr>\n",
       "    <tr>\n",
       "      <th>372448</th>\n",
       "      <td>25.0</td>\n",
       "      <td>0.0</td>\n",
       "      <td>0.0</td>\n",
       "      <td>0.0</td>\n",
       "      <td>0.0</td>\n",
       "      <td>0.0</td>\n",
       "      <td>0.0</td>\n",
       "      <td>0.0</td>\n",
       "      <td>0.0</td>\n",
       "      <td>0.0</td>\n",
       "      <td>...</td>\n",
       "      <td>0.0</td>\n",
       "      <td>0.0</td>\n",
       "      <td>0.0</td>\n",
       "      <td>0.0</td>\n",
       "      <td>0.0</td>\n",
       "      <td>0.0</td>\n",
       "      <td>0.0</td>\n",
       "      <td>0.0</td>\n",
       "      <td>0.0</td>\n",
       "      <td>0.0</td>\n",
       "    </tr>\n",
       "    <tr>\n",
       "      <th>372449</th>\n",
       "      <td>25.0</td>\n",
       "      <td>0.0</td>\n",
       "      <td>0.0</td>\n",
       "      <td>0.0</td>\n",
       "      <td>0.0</td>\n",
       "      <td>0.0</td>\n",
       "      <td>0.0</td>\n",
       "      <td>0.0</td>\n",
       "      <td>0.0</td>\n",
       "      <td>0.0</td>\n",
       "      <td>...</td>\n",
       "      <td>0.0</td>\n",
       "      <td>0.0</td>\n",
       "      <td>0.0</td>\n",
       "      <td>0.0</td>\n",
       "      <td>0.0</td>\n",
       "      <td>0.0</td>\n",
       "      <td>0.0</td>\n",
       "      <td>0.0</td>\n",
       "      <td>0.0</td>\n",
       "      <td>0.0</td>\n",
       "    </tr>\n",
       "  </tbody>\n",
       "</table>\n",
       "<p>372450 rows × 785 columns</p>\n",
       "</div>"
      ]
     },
     "execution_count": 73,
     "metadata": {},
     "output_type": "execute_result"
    }
   ],
   "execution_count": 73
  },
  {
   "metadata": {},
   "cell_type": "markdown",
   "source": "Удалим нулевую колонку из набора и присвоим ее переменной ```Y``` - это будут наши метки.",
   "id": "e9aea7ca9e43b843"
  },
  {
   "metadata": {
    "ExecuteTime": {
     "end_time": "2025-02-03T12:19:29.414331Z",
     "start_time": "2025-02-03T12:19:29.169380Z"
    }
   },
   "cell_type": "code",
   "source": [
    "# Определим словарь\n",
    "word_dict = {\n",
    "    0:'A',1:'B',2:'C',3:'D',4:'E',5:'F',6:'G',7:'H',8:'I',9:'J',10:'K',11:'L',12:'M',13:'N',14:'O',15:'P',16:'Q',17:'R',18:'S',19:'T',20:'U',21:'V',22:'W',23:'X', 24:'Y',25:'Z'\n",
    "}\n",
    "x = df.drop('0', axis=1) # Наши пиксели\n",
    "y = df['0'] # Наши метки\n"
   ],
   "id": "141a15a87b8b46bb",
   "outputs": [],
   "execution_count": 96
  },
  {
   "metadata": {},
   "cell_type": "markdown",
   "source": [
    "Необходимо преобразовать данные размером 784 в формат изображения с разрешением 28 на 28 пикселей, чтобы мы могли визуализировать наши изображения.\n",
    "\n",
    "Как мы это сделаем:\n",
    "\n",
    "```X_train.values``` — преобразуем ```DataFrame``` в ```numpy``` массив.\n",
    "\n",
    "```X_train.shape[0]``` — указываем количество строк (изображений). Функция ```shape``` возвращает два значения: ```[0]``` — количество строк, ```[1]``` — количество столбцов. Поэтому мы используем ```[0]```, чтобы получить все строки из набора.\n",
    "\n",
    "```(X_train.shape[0], 28, 28)``` — преобразуем каждую строку (1D-вектор) в изображение с разрешением 28×28 пикселей."
   ],
   "id": "8c05e8afd7bb3b79"
  },
  {
   "metadata": {
    "ExecuteTime": {
     "end_time": "2025-02-03T11:53:54.720278Z",
     "start_time": "2025-02-03T11:53:53.501612Z"
    }
   },
   "cell_type": "code",
   "source": [
    "# Делим данные\n",
    "X_train, X_test, y_train, y_test = train_test_split(x, y, test_size=0.2)\n",
    "# Изменяем форму\n",
    "X_train = np.reshape(X_train.values, (X_train.shape[0], 28, 28))\n",
    "X_test = np.reshape(X_test.values, (X_test.shape[0], 28, 28))\n",
    "X_train.shape"
   ],
   "id": "7e9c077ab655fdd",
   "outputs": [
    {
     "data": {
      "text/plain": [
       "(297960, 28, 28)"
      ]
     },
     "execution_count": 75,
     "metadata": {},
     "output_type": "execute_result"
    }
   ],
   "execution_count": 75
  },
  {
   "metadata": {},
   "cell_type": "markdown",
   "source": " Глянем на наши изображения.",
   "id": "b613333a126bbd85"
  },
  {
   "metadata": {
    "ExecuteTime": {
     "end_time": "2025-02-03T11:53:57.223186Z",
     "start_time": "2025-02-03T11:53:54.868637Z"
    }
   },
   "cell_type": "code",
   "source": [
    "plt.figure(figsize=(12, 10))\n",
    "#  Задаем количество строк и столбцов\n",
    "row, columns = 5, 5\n",
    "for i in range(25):\n",
    "    # Создаем сетку 5х5\n",
    "    plt.subplot(columns, row, i + 1)\n",
    "    # Визуализируем изображение с цветовой гаммой Greys(серые оттенки), 'nearest' - без сглаживания\n",
    "    plt.imshow(X_train[i].reshape([28, 28]), interpolation='nearest', cmap='Greys')\n",
    "#  Выводим график на экран\n",
    "plt.show()"
   ],
   "id": "c7462e5fa8d3eb75",
   "outputs": [
    {
     "data": {
      "text/plain": [
       "<Figure size 1200x1000 with 25 Axes>"
      ],
      "image/png": "[encoded data removed]"
     },
     "metadata": {},
     "output_type": "display_data"
    }
   ],
   "execution_count": 76
  },
  {
   "metadata": {},
   "cell_type": "markdown",
   "source": "Нормализуем данные, разделив все значения пикселей на 255, чтобы они находились в диапазоне от 0 до 1.",
   "id": "10bc35cdb01658e4"
  },
  {
   "metadata": {
    "ExecuteTime": {
     "end_time": "2025-02-03T11:53:57.513170Z",
     "start_time": "2025-02-03T11:53:57.250431Z"
    }
   },
   "cell_type": "code",
   "source": [
    "train_images = X_train / 255.0\n",
    "test_images = X_test / 255.0"
   ],
   "id": "91d00f1d0f6c13cd",
   "outputs": [],
   "execution_count": 77
  },
  {
   "metadata": {},
   "cell_type": "markdown",
   "source": [
    "Преобразование данных в формат, подходящий для использования в модели нейросети.\n",
    "\n",
    "Это необходимо для того, чтобы сделать данные совместимыми с моделями нейросетей, которые ожидают изображения в формате ```(batch_size, height, width, channels)```, где ```channels``` представляет собой количество каналов. Например, для черно-белых изображений это будет один канал, а для RGB-изображений — три."
   ],
   "id": "fe63c6df0052fa9b"
  },
  {
   "metadata": {
    "ExecuteTime": {
     "end_time": "2025-02-03T11:53:58.079690Z",
     "start_time": "2025-02-03T11:53:58.075678Z"
    }
   },
   "cell_type": "code",
   "source": [
    "train_images = train_images.reshape(train_images.shape[0], train_images.shape[1], train_images.shape[2], 1)\n",
    "test_images = test_images.reshape(test_images.shape[0], test_images.shape[1], test_images.shape[2], 1)"
   ],
   "id": "79ff1d2ecb98274b",
   "outputs": [],
   "execution_count": 78
  },
  {
   "metadata": {},
   "cell_type": "markdown",
   "source": [
    "Теперь преобразуем метки классов в формат ```one-hot-encoding```. Этот метод преобразует метки классов в вектор, где все классы равны нулю, за исключением одного, который имеет значение 1.\n",
    "\n",
    "Например: если метка класса ```0```, то вектор будет выглядеть```[1,0,...,0]```. Т.е ```1``` на позиции ```0``` будет соответствовать букве ```A```."
   ],
   "id": "b7c15a4d29783cd0"
  },
  {
   "metadata": {
    "ExecuteTime": {
     "end_time": "2025-02-03T11:53:58.135440Z",
     "start_time": "2025-02-03T11:53:58.105539Z"
    }
   },
   "cell_type": "code",
   "source": [
    "total_classes = 26\n",
    "y_train_classes = keras.utils.to_categorical(y_train, total_classes)\n",
    "y_test_classes = keras.utils.to_categorical(y_test, total_classes)"
   ],
   "id": "dfa3214a35d8f66c",
   "outputs": [],
   "execution_count": 79
  },
  {
   "metadata": {
    "ExecuteTime": {
     "end_time": "2025-02-03T11:54:00.294018Z",
     "start_time": "2025-02-03T11:53:58.187209Z"
    }
   },
   "cell_type": "code",
   "source": "X_t, X_val, y_t, y_val = train_test_split(train_images, y_train_classes, test_size=0.1, random_state=42)",
   "id": "667b185ab6f852e8",
   "outputs": [],
   "execution_count": 80
  },
  {
   "metadata": {
    "ExecuteTime": {
     "end_time": "2025-02-03T11:54:00.303041Z",
     "start_time": "2025-02-03T11:54:00.299033Z"
    }
   },
   "cell_type": "code",
   "source": "X_t.shape",
   "id": "3182950444cde05c",
   "outputs": [
    {
     "data": {
      "text/plain": [
       "(268164, 28, 28, 1)"
      ]
     },
     "execution_count": 81,
     "metadata": {},
     "output_type": "execute_result"
    }
   ],
   "execution_count": 81
  },
  {
   "metadata": {
    "ExecuteTime": {
     "end_time": "2025-02-03T11:54:00.473322Z",
     "start_time": "2025-02-03T11:54:00.367429Z"
    }
   },
   "cell_type": "code",
   "source": "y_t.shape",
   "id": "61b6e77a306f3a14",
   "outputs": [
    {
     "data": {
      "text/plain": [
       "(268164, 26)"
      ]
     },
     "execution_count": 82,
     "metadata": {},
     "output_type": "execute_result"
    }
   ],
   "execution_count": 82
  },
  {
   "metadata": {},
   "cell_type": "markdown",
   "source": [
    "### Объявляем модель и настраиваем слои.\n",
    "#### **Слои:**\n",
    "* InputLayer – слой меняет форму входного изображения: 28×28 пикселей, 1 канал (черно-белое изображение).\n",
    "* Conv2D - свёрточный слой, который выделяет особенности(features) из изображения\n",
    "    * **filters** - это число фильтров(ядер свёртки), каждый из которых распознает определенный шаблон. Таким образом, на выходе мы получим количество карт признаков, равное количеству фильтров.\n",
    "    * **kernel_size** - размер ядра свёртки. Ядро просматривает локальные участки изображения указанного размера.\n",
    "    * **padding** - если не добавлять ```padding```, то при каждом шаге свертки изображение будет уменьшаться. ```padding``` помогает сохранить его размер. ```padding='valid'``` (без отступов), ```padding='same'``` (с отступами, сохраняет размер)\n",
    "    * **activation** - активационная функция\n",
    "* MaxPool2D - слой уменьшает размер карты признаков из слоя Conv2D, выбирая максимум в каждом блоке.\n",
    "    * **pool_size** - размер окна, который просматривается для уменьшения размера карты признаков.\n",
    "    * **strides** - шаг перемещения окна. Stride=2 → Фильтр перепрыгивает 1 пиксель.\n",
    "* Dropout - метод регуляризации, помогает модели избежать переобучения. Отключает часть нейронов(указывается %) на каждому шаге обучения.\n",
    "* Flatten - слой преобразуется многомерные данные в одномерный вектор, чтобы подать его в полносвязный слой.\n",
    "* Dense - полносвязный слой, принимает одномерный вектор. Указываем количество нейронов и функцию активации.\n",
    "* Dense(выходной слой) - последний слой используем для классификации. 26 - количество классов в нашем случае. activation='softmax' — это активационная функция, которая используется для многоклассовой классификации.\n"
   ],
   "id": "6b553e70e7494a1"
  },
  {
   "metadata": {
    "ExecuteTime": {
     "end_time": "2025-02-03T11:54:00.561819Z",
     "start_time": "2025-02-03T11:54:00.499943Z"
    }
   },
   "cell_type": "code",
   "source": [
    "model = keras.Sequential()\n",
    "model.add(InputLayer(shape=(28, 28, 1)))\n",
    "model.add(Conv2D(filters=32, kernel_size=(3, 3), activation='relu'))\n",
    "model.add(MaxPooling2D(pool_size=(2, 2), strides=2))\n",
    "model.add(Conv2D(filters=64, kernel_size=(3, 3), activation='relu', padding='same'))\n",
    "model.add(MaxPooling2D(pool_size=(2, 2), strides=2))\n",
    "model.add(Conv2D(filters=128, kernel_size=(3, 3), activation='relu', padding='valid'))\n",
    "model.add(MaxPooling2D(pool_size=(2, 2), strides=2))\n",
    "model.add(Dropout(0.3))\n",
    "model.add(Flatten())\n",
    "model.add(Dense(399, activation='relu'))\n",
    "model.add(Dense(26, activation='softmax'))"
   ],
   "id": "766973ee8df2ad72",
   "outputs": [],
   "execution_count": 83
  },
  {
   "metadata": {},
   "cell_type": "markdown",
   "source": [
    "### Далее мы настроим нашу модель.\n",
    "* compile() - настройка модели.\n",
    "* Adam - адаптирует скорость обучения для каждого параметра модели, что помогает ускорить обучение и улучшить его стабильность.\n",
    "* learning_rate - скорость обучения\n",
    "* loss - функция потерь.\n",
    "* metrics - отлеживающая метрика.\n",
    "* EarlyStopping - используется для преждевременной остановки модели, когда она перестает обучаться.\n",
    "    * monitor - метрика за которой надо следить в нашем случае потери, если не уменьшается остановить процесс.\n",
    "    * min_delta - минимальное значение метрики, которое будет считаться улучшением или ухудшением. Т.е  больше 0 или меньше 0\n",
    "    * patience - через сколько эпох модель будет продолжать обучаться, если нет улучшения.\n",
    "    * verbose - 0 - никогда не выводит информацию о процессе обучения. 1 - выводит информацию о каждой эпохе. 2 - выводит информацию о каждом шаге.\n",
    "    * mode - как отслеживать улучшение метрики\n",
    "        * auto: Keras автоматически определит, в каком направлении должна изменяться метрика для того, чтобы считать её улучшением.\n",
    "        * min: Для метрик, где нужно минимизировать значение (например, val_loss).\n",
    "        * max: Для метрик, где нужно максимизировать значение (например, accuracy)."
   ],
   "id": "d4b47702e5ce65cb"
  },
  {
   "metadata": {
    "ExecuteTime": {
     "end_time": "2025-02-03T11:54:00.593101Z",
     "start_time": "2025-02-03T11:54:00.587080Z"
    }
   },
   "cell_type": "code",
   "source": [
    "model.compile(optimizer=Adam(learning_rate=0.001), loss='categorical_crossentropy', metrics=['accuracy'])\n",
    "stop = EarlyStopping(monitor='val_loss', min_delta=0, patience=4, verbose=0, mode='auto')"
   ],
   "id": "75d7206c89ab3297",
   "outputs": [],
   "execution_count": 84
  },
  {
   "metadata": {},
   "cell_type": "markdown",
   "source": [
    "Обучение модели.\n",
    "* epochs - количество итераций столько модель будет проходить по всем данным\n",
    "* batch_size - количество примеров, которые будет брать модель за одну итерацию, чтобы вычислить градиент и обновления весов.\n",
    "* callbacks - список функций, которые будут выполняться в процессе обучения.\n",
    "* validation_data - данные на которых модель будет обобщаться.\n",
    "\n",
    "Метод fit() возвращает объект history, который содержать информацию об обучении:\n",
    "    * history.history — словарь, где ключами будут метрики (например, accuracy, loss), а значениями — списки значений этих метрик для каждой эпохи."
   ],
   "id": "c8b5ce4fd08781ec"
  },
  {
   "metadata": {
    "ExecuteTime": {
     "end_time": "2025-02-03T11:59:44.583254Z",
     "start_time": "2025-02-03T11:54:00.629579Z"
    }
   },
   "cell_type": "code",
   "source": "history = model.fit(X_t, y_t, epochs=10, batch_size=250, callbacks=[stop], validation_data=(X_val, y_val))",
   "id": "a0ca5ea12ccd319c",
   "outputs": [
    {
     "name": "stdout",
     "output_type": "stream",
     "text": [
      "Epoch 1/10\n",
      "\u001B[1m1073/1073\u001B[0m \u001B[32m━━━━━━━━━━━━━━━━━━━━\u001B[0m\u001B[37m\u001B[0m \u001B[1m37s\u001B[0m 33ms/step - accuracy: 0.8393 - loss: 0.5689 - val_accuracy: 0.9814 - val_loss: 0.0654\n",
      "Epoch 2/10\n",
      "\u001B[1m1073/1073\u001B[0m \u001B[32m━━━━━━━━━━━━━━━━━━━━\u001B[0m\u001B[37m\u001B[0m \u001B[1m34s\u001B[0m 32ms/step - accuracy: 0.9770 - loss: 0.0797 - val_accuracy: 0.9866 - val_loss: 0.0473\n",
      "Epoch 3/10\n",
      "\u001B[1m1073/1073\u001B[0m \u001B[32m━━━━━━━━━━━━━━━━━━━━\u001B[0m\u001B[37m\u001B[0m \u001B[1m34s\u001B[0m 32ms/step - accuracy: 0.9836 - loss: 0.0568 - val_accuracy: 0.9878 - val_loss: 0.0419\n",
      "Epoch 4/10\n",
      "\u001B[1m1073/1073\u001B[0m \u001B[32m━━━━━━━━━━━━━━━━━━━━\u001B[0m\u001B[37m\u001B[0m \u001B[1m34s\u001B[0m 32ms/step - accuracy: 0.9862 - loss: 0.0476 - val_accuracy: 0.9893 - val_loss: 0.0379\n",
      "Epoch 5/10\n",
      "\u001B[1m1073/1073\u001B[0m \u001B[32m━━━━━━━━━━━━━━━━━━━━\u001B[0m\u001B[37m\u001B[0m \u001B[1m34s\u001B[0m 32ms/step - accuracy: 0.9883 - loss: 0.0395 - val_accuracy: 0.9912 - val_loss: 0.0307\n",
      "Epoch 6/10\n",
      "\u001B[1m1073/1073\u001B[0m \u001B[32m━━━━━━━━━━━━━━━━━━━━\u001B[0m\u001B[37m\u001B[0m \u001B[1m34s\u001B[0m 32ms/step - accuracy: 0.9899 - loss: 0.0340 - val_accuracy: 0.9914 - val_loss: 0.0294\n",
      "Epoch 7/10\n",
      "\u001B[1m1073/1073\u001B[0m \u001B[32m━━━━━━━━━━━━━━━━━━━━\u001B[0m\u001B[37m\u001B[0m \u001B[1m34s\u001B[0m 32ms/step - accuracy: 0.9908 - loss: 0.0297 - val_accuracy: 0.9924 - val_loss: 0.0267\n",
      "Epoch 8/10\n",
      "\u001B[1m1073/1073\u001B[0m \u001B[32m━━━━━━━━━━━━━━━━━━━━\u001B[0m\u001B[37m\u001B[0m \u001B[1m34s\u001B[0m 32ms/step - accuracy: 0.9917 - loss: 0.0266 - val_accuracy: 0.9933 - val_loss: 0.0241\n",
      "Epoch 9/10\n",
      "\u001B[1m1073/1073\u001B[0m \u001B[32m━━━━━━━━━━━━━━━━━━━━\u001B[0m\u001B[37m\u001B[0m \u001B[1m34s\u001B[0m 32ms/step - accuracy: 0.9927 - loss: 0.0233 - val_accuracy: 0.9925 - val_loss: 0.0269\n",
      "Epoch 10/10\n",
      "\u001B[1m1073/1073\u001B[0m \u001B[32m━━━━━━━━━━━━━━━━━━━━\u001B[0m\u001B[37m\u001B[0m \u001B[1m34s\u001B[0m 32ms/step - accuracy: 0.9930 - loss: 0.0215 - val_accuracy: 0.9934 - val_loss: 0.0232\n"
     ]
    }
   ],
   "execution_count": 85
  },
  {
   "metadata": {
    "ExecuteTime": {
     "end_time": "2025-02-03T12:01:38.430762Z",
     "start_time": "2025-02-03T12:01:38.219237Z"
    }
   },
   "cell_type": "code",
   "source": [
    "# Cохраним модель.\n",
    "model.save('model_cnn.keras')"
   ],
   "id": "9fadc2d76fa0c9e4",
   "outputs": [],
   "execution_count": 86
  },
  {
   "metadata": {
    "ExecuteTime": {
     "end_time": "2025-02-03T12:01:51.850978Z",
     "start_time": "2025-02-03T12:01:51.802484Z"
    }
   },
   "cell_type": "code",
   "source": "model.summary()",
   "id": "cc3afd63077c8f66",
   "outputs": [
    {
     "data": {
      "text/plain": [
       "\u001B[1mModel: \"sequential_4\"\u001B[0m\n"
      ],
      "text/html": [
       "<pre style=\"white-space:pre;overflow-x:auto;line-height:normal;font-family:Menlo,'DejaVu Sans Mono',consolas,'Courier New',monospace\"><span style=\"font-weight: bold\">Model: \"sequential_4\"</span>\n",
       "</pre>\n"
      ]
     },
     "metadata": {},
     "output_type": "display_data"
    },
    {
     "data": {
      "text/plain": [
       "┏━━━━━━━━━━━━━━━━━━━━━━━━━━━━━━━━━┳━━━━━━━━━━━━━━━━━━━━━━━━┳━━━━━━━━━━━━━━━┓\n",
       "┃\u001B[1m \u001B[0m\u001B[1mLayer (type)                   \u001B[0m\u001B[1m \u001B[0m┃\u001B[1m \u001B[0m\u001B[1mOutput Shape          \u001B[0m\u001B[1m \u001B[0m┃\u001B[1m \u001B[0m\u001B[1m      Param #\u001B[0m\u001B[1m \u001B[0m┃\n",
       "┡━━━━━━━━━━━━━━━━━━━━━━━━━━━━━━━━━╇━━━━━━━━━━━━━━━━━━━━━━━━╇━━━━━━━━━━━━━━━┩\n",
       "│ conv2d_7 (\u001B[38;5;33mConv2D\u001B[0m)               │ (\u001B[38;5;45mNone\u001B[0m, \u001B[38;5;34m26\u001B[0m, \u001B[38;5;34m26\u001B[0m, \u001B[38;5;34m32\u001B[0m)     │           \u001B[38;5;34m320\u001B[0m │\n",
       "├─────────────────────────────────┼────────────────────────┼───────────────┤\n",
       "│ max_pooling2d_6 (\u001B[38;5;33mMaxPooling2D\u001B[0m)  │ (\u001B[38;5;45mNone\u001B[0m, \u001B[38;5;34m13\u001B[0m, \u001B[38;5;34m13\u001B[0m, \u001B[38;5;34m32\u001B[0m)     │             \u001B[38;5;34m0\u001B[0m │\n",
       "├─────────────────────────────────┼────────────────────────┼───────────────┤\n",
       "│ conv2d_8 (\u001B[38;5;33mConv2D\u001B[0m)               │ (\u001B[38;5;45mNone\u001B[0m, \u001B[38;5;34m13\u001B[0m, \u001B[38;5;34m13\u001B[0m, \u001B[38;5;34m64\u001B[0m)     │        \u001B[38;5;34m18,496\u001B[0m │\n",
       "├─────────────────────────────────┼────────────────────────┼───────────────┤\n",
       "│ max_pooling2d_7 (\u001B[38;5;33mMaxPooling2D\u001B[0m)  │ (\u001B[38;5;45mNone\u001B[0m, \u001B[38;5;34m6\u001B[0m, \u001B[38;5;34m6\u001B[0m, \u001B[38;5;34m64\u001B[0m)       │             \u001B[38;5;34m0\u001B[0m │\n",
       "├─────────────────────────────────┼────────────────────────┼───────────────┤\n",
       "│ conv2d_9 (\u001B[38;5;33mConv2D\u001B[0m)               │ (\u001B[38;5;45mNone\u001B[0m, \u001B[38;5;34m4\u001B[0m, \u001B[38;5;34m4\u001B[0m, \u001B[38;5;34m128\u001B[0m)      │        \u001B[38;5;34m73,856\u001B[0m │\n",
       "├─────────────────────────────────┼────────────────────────┼───────────────┤\n",
       "│ max_pooling2d_8 (\u001B[38;5;33mMaxPooling2D\u001B[0m)  │ (\u001B[38;5;45mNone\u001B[0m, \u001B[38;5;34m2\u001B[0m, \u001B[38;5;34m2\u001B[0m, \u001B[38;5;34m128\u001B[0m)      │             \u001B[38;5;34m0\u001B[0m │\n",
       "├─────────────────────────────────┼────────────────────────┼───────────────┤\n",
       "│ dropout_2 (\u001B[38;5;33mDropout\u001B[0m)             │ (\u001B[38;5;45mNone\u001B[0m, \u001B[38;5;34m2\u001B[0m, \u001B[38;5;34m2\u001B[0m, \u001B[38;5;34m128\u001B[0m)      │             \u001B[38;5;34m0\u001B[0m │\n",
       "├─────────────────────────────────┼────────────────────────┼───────────────┤\n",
       "│ flatten_2 (\u001B[38;5;33mFlatten\u001B[0m)             │ (\u001B[38;5;45mNone\u001B[0m, \u001B[38;5;34m512\u001B[0m)            │             \u001B[38;5;34m0\u001B[0m │\n",
       "├─────────────────────────────────┼────────────────────────┼───────────────┤\n",
       "│ dense_4 (\u001B[38;5;33mDense\u001B[0m)                 │ (\u001B[38;5;45mNone\u001B[0m, \u001B[38;5;34m399\u001B[0m)            │       \u001B[38;5;34m204,687\u001B[0m │\n",
       "├─────────────────────────────────┼────────────────────────┼───────────────┤\n",
       "│ dense_5 (\u001B[38;5;33mDense\u001B[0m)                 │ (\u001B[38;5;45mNone\u001B[0m, \u001B[38;5;34m26\u001B[0m)             │        \u001B[38;5;34m10,400\u001B[0m │\n",
       "└─────────────────────────────────┴────────────────────────┴───────────────┘\n"
      ],
      "text/html": [
       "<pre style=\"white-space:pre;overflow-x:auto;line-height:normal;font-family:Menlo,'DejaVu Sans Mono',consolas,'Courier New',monospace\">┏━━━━━━━━━━━━━━━━━━━━━━━━━━━━━━━━━┳━━━━━━━━━━━━━━━━━━━━━━━━┳━━━━━━━━━━━━━━━┓\n",
       "┃<span style=\"font-weight: bold\"> Layer (type)                    </span>┃<span style=\"font-weight: bold\"> Output Shape           </span>┃<span style=\"font-weight: bold\">       Param # </span>┃\n",
       "┡━━━━━━━━━━━━━━━━━━━━━━━━━━━━━━━━━╇━━━━━━━━━━━━━━━━━━━━━━━━╇━━━━━━━━━━━━━━━┩\n",
       "│ conv2d_7 (<span style=\"color: #0087ff; text-decoration-color: #0087ff\">Conv2D</span>)               │ (<span style=\"color: #00d7ff; text-decoration-color: #00d7ff\">None</span>, <span style=\"color: #00af00; text-decoration-color: #00af00\">26</span>, <span style=\"color: #00af00; text-decoration-color: #00af00\">26</span>, <span style=\"color: #00af00; text-decoration-color: #00af00\">32</span>)     │           <span style=\"color: #00af00; text-decoration-color: #00af00\">320</span> │\n",
       "├─────────────────────────────────┼────────────────────────┼───────────────┤\n",
       "│ max_pooling2d_6 (<span style=\"color: #0087ff; text-decoration-color: #0087ff\">MaxPooling2D</span>)  │ (<span style=\"color: #00d7ff; text-decoration-color: #00d7ff\">None</span>, <span style=\"color: #00af00; text-decoration-color: #00af00\">13</span>, <span style=\"color: #00af00; text-decoration-color: #00af00\">13</span>, <span style=\"color: #00af00; text-decoration-color: #00af00\">32</span>)     │             <span style=\"color: #00af00; text-decoration-color: #00af00\">0</span> │\n",
       "├─────────────────────────────────┼────────────────────────┼───────────────┤\n",
       "│ conv2d_8 (<span style=\"color: #0087ff; text-decoration-color: #0087ff\">Conv2D</span>)               │ (<span style=\"color: #00d7ff; text-decoration-color: #00d7ff\">None</span>, <span style=\"color: #00af00; text-decoration-color: #00af00\">13</span>, <span style=\"color: #00af00; text-decoration-color: #00af00\">13</span>, <span style=\"color: #00af00; text-decoration-color: #00af00\">64</span>)     │        <span style=\"color: #00af00; text-decoration-color: #00af00\">18,496</span> │\n",
       "├─────────────────────────────────┼────────────────────────┼───────────────┤\n",
       "│ max_pooling2d_7 (<span style=\"color: #0087ff; text-decoration-color: #0087ff\">MaxPooling2D</span>)  │ (<span style=\"color: #00d7ff; text-decoration-color: #00d7ff\">None</span>, <span style=\"color: #00af00; text-decoration-color: #00af00\">6</span>, <span style=\"color: #00af00; text-decoration-color: #00af00\">6</span>, <span style=\"color: #00af00; text-decoration-color: #00af00\">64</span>)       │             <span style=\"color: #00af00; text-decoration-color: #00af00\">0</span> │\n",
       "├─────────────────────────────────┼────────────────────────┼───────────────┤\n",
       "│ conv2d_9 (<span style=\"color: #0087ff; text-decoration-color: #0087ff\">Conv2D</span>)               │ (<span style=\"color: #00d7ff; text-decoration-color: #00d7ff\">None</span>, <span style=\"color: #00af00; text-decoration-color: #00af00\">4</span>, <span style=\"color: #00af00; text-decoration-color: #00af00\">4</span>, <span style=\"color: #00af00; text-decoration-color: #00af00\">128</span>)      │        <span style=\"color: #00af00; text-decoration-color: #00af00\">73,856</span> │\n",
       "├─────────────────────────────────┼────────────────────────┼───────────────┤\n",
       "│ max_pooling2d_8 (<span style=\"color: #0087ff; text-decoration-color: #0087ff\">MaxPooling2D</span>)  │ (<span style=\"color: #00d7ff; text-decoration-color: #00d7ff\">None</span>, <span style=\"color: #00af00; text-decoration-color: #00af00\">2</span>, <span style=\"color: #00af00; text-decoration-color: #00af00\">2</span>, <span style=\"color: #00af00; text-decoration-color: #00af00\">128</span>)      │             <span style=\"color: #00af00; text-decoration-color: #00af00\">0</span> │\n",
       "├─────────────────────────────────┼────────────────────────┼───────────────┤\n",
       "│ dropout_2 (<span style=\"color: #0087ff; text-decoration-color: #0087ff\">Dropout</span>)             │ (<span style=\"color: #00d7ff; text-decoration-color: #00d7ff\">None</span>, <span style=\"color: #00af00; text-decoration-color: #00af00\">2</span>, <span style=\"color: #00af00; text-decoration-color: #00af00\">2</span>, <span style=\"color: #00af00; text-decoration-color: #00af00\">128</span>)      │             <span style=\"color: #00af00; text-decoration-color: #00af00\">0</span> │\n",
       "├─────────────────────────────────┼────────────────────────┼───────────────┤\n",
       "│ flatten_2 (<span style=\"color: #0087ff; text-decoration-color: #0087ff\">Flatten</span>)             │ (<span style=\"color: #00d7ff; text-decoration-color: #00d7ff\">None</span>, <span style=\"color: #00af00; text-decoration-color: #00af00\">512</span>)            │             <span style=\"color: #00af00; text-decoration-color: #00af00\">0</span> │\n",
       "├─────────────────────────────────┼────────────────────────┼───────────────┤\n",
       "│ dense_4 (<span style=\"color: #0087ff; text-decoration-color: #0087ff\">Dense</span>)                 │ (<span style=\"color: #00d7ff; text-decoration-color: #00d7ff\">None</span>, <span style=\"color: #00af00; text-decoration-color: #00af00\">399</span>)            │       <span style=\"color: #00af00; text-decoration-color: #00af00\">204,687</span> │\n",
       "├─────────────────────────────────┼────────────────────────┼───────────────┤\n",
       "│ dense_5 (<span style=\"color: #0087ff; text-decoration-color: #0087ff\">Dense</span>)                 │ (<span style=\"color: #00d7ff; text-decoration-color: #00d7ff\">None</span>, <span style=\"color: #00af00; text-decoration-color: #00af00\">26</span>)             │        <span style=\"color: #00af00; text-decoration-color: #00af00\">10,400</span> │\n",
       "└─────────────────────────────────┴────────────────────────┴───────────────┘\n",
       "</pre>\n"
      ]
     },
     "metadata": {},
     "output_type": "display_data"
    },
    {
     "data": {
      "text/plain": [
       "\u001B[1m Total params: \u001B[0m\u001B[38;5;34m923,279\u001B[0m (3.52 MB)\n"
      ],
      "text/html": [
       "<pre style=\"white-space:pre;overflow-x:auto;line-height:normal;font-family:Menlo,'DejaVu Sans Mono',consolas,'Courier New',monospace\"><span style=\"font-weight: bold\"> Total params: </span><span style=\"color: #00af00; text-decoration-color: #00af00\">923,279</span> (3.52 MB)\n",
       "</pre>\n"
      ]
     },
     "metadata": {},
     "output_type": "display_data"
    },
    {
     "data": {
      "text/plain": [
       "\u001B[1m Trainable params: \u001B[0m\u001B[38;5;34m307,759\u001B[0m (1.17 MB)\n"
      ],
      "text/html": [
       "<pre style=\"white-space:pre;overflow-x:auto;line-height:normal;font-family:Menlo,'DejaVu Sans Mono',consolas,'Courier New',monospace\"><span style=\"font-weight: bold\"> Trainable params: </span><span style=\"color: #00af00; text-decoration-color: #00af00\">307,759</span> (1.17 MB)\n",
       "</pre>\n"
      ]
     },
     "metadata": {},
     "output_type": "display_data"
    },
    {
     "data": {
      "text/plain": [
       "\u001B[1m Non-trainable params: \u001B[0m\u001B[38;5;34m0\u001B[0m (0.00 B)\n"
      ],
      "text/html": [
       "<pre style=\"white-space:pre;overflow-x:auto;line-height:normal;font-family:Menlo,'DejaVu Sans Mono',consolas,'Courier New',monospace\"><span style=\"font-weight: bold\"> Non-trainable params: </span><span style=\"color: #00af00; text-decoration-color: #00af00\">0</span> (0.00 B)\n",
       "</pre>\n"
      ]
     },
     "metadata": {},
     "output_type": "display_data"
    },
    {
     "data": {
      "text/plain": [
       "\u001B[1m Optimizer params: \u001B[0m\u001B[38;5;34m615,520\u001B[0m (2.35 MB)\n"
      ],
      "text/html": [
       "<pre style=\"white-space:pre;overflow-x:auto;line-height:normal;font-family:Menlo,'DejaVu Sans Mono',consolas,'Courier New',monospace\"><span style=\"font-weight: bold\"> Optimizer params: </span><span style=\"color: #00af00; text-decoration-color: #00af00\">615,520</span> (2.35 MB)\n",
       "</pre>\n"
      ]
     },
     "metadata": {},
     "output_type": "display_data"
    }
   ],
   "execution_count": 87
  },
  {
   "metadata": {
    "ExecuteTime": {
     "end_time": "2025-02-03T12:07:42.171488Z",
     "start_time": "2025-02-03T12:07:42.060187Z"
    }
   },
   "cell_type": "code",
   "source": [
    "acc = history.history['accuracy']\n",
    "val_acc = history.history['val_accuracy']\n",
    "loss = history.history['loss']\n",
    "val_loss = history.history['val_loss']\n",
    "epochs = range(1,len(acc)+1)\n",
    "\n",
    "plt.plot(epochs, acc, 'b')\n",
    "plt.plot(epochs, val_acc, 'r')\n",
    "plt.title('Точность модели')\n",
    "plt.ylabel('Точность')\n",
    "plt.xlabel('Эпохи')\n",
    "plt.legend(['Train', 'Val'], loc='upper left')\n",
    "plt.show()"
   ],
   "id": "eac35be8a9c3be8e",
   "outputs": [
    {
     "data": {
      "text/plain": [
       "<Figure size 640x480 with 1 Axes>"
      ],
      "image/png": "[encoded data removed]"
     },
     "metadata": {},
     "output_type": "display_data"
    }
   ],
   "execution_count": 88
  },
  {
   "metadata": {
    "ExecuteTime": {
     "end_time": "2025-02-03T12:08:34.039871Z",
     "start_time": "2025-02-03T12:08:33.949662Z"
    }
   },
   "cell_type": "code",
   "source": [
    "plt.plot(history.history['loss'])\n",
    "plt.plot(history.history['val_loss'])\n",
    "plt.title('Потери модели')\n",
    "plt.xlabel('Эпохи')\n",
    "plt.ylabel('Потери')\n",
    "plt.legend(['Train', 'Validation'], loc='upper left')\n",
    "plt.show()"
   ],
   "id": "65fd8f5ea42653b1",
   "outputs": [
    {
     "data": {
      "text/plain": [
       "<Figure size 640x480 with 1 Axes>"
      ],
      "image/png": "[encoded data removed]"
     },
     "metadata": {},
     "output_type": "display_data"
    }
   ],
   "execution_count": 90
  },
  {
   "metadata": {
    "ExecuteTime": {
     "end_time": "2025-02-03T12:14:26.215266Z",
     "start_time": "2025-02-03T12:14:07.278182Z"
    }
   },
   "cell_type": "code",
   "source": [
    "_, train_accuracy = model.evaluate(X_t, y_t, verbose=0)\n",
    "print(f'Точность на тренировочном наборе {train_accuracy * 100:.2f}%')"
   ],
   "id": "6135a53d1a669854",
   "outputs": [
    {
     "name": "stdout",
     "output_type": "stream",
     "text": [
      "Точность на тренировочном наборе 99.72%\n"
     ]
    }
   ],
   "execution_count": 92
  },
  {
   "metadata": {
    "ExecuteTime": {
     "end_time": "2025-02-03T12:14:37.465715Z",
     "start_time": "2025-02-03T12:14:35.307172Z"
    }
   },
   "cell_type": "code",
   "source": [
    "_, val_accuracy = model.evaluate(X_val, y_val, verbose=0)\n",
    "print(f\"Точность на проверочных данных: {val_accuracy * 100:.2f}%\")"
   ],
   "id": "106dfc11e1bc6dfb",
   "outputs": [
    {
     "name": "stdout",
     "output_type": "stream",
     "text": [
      "Validation Accuracy: 99.34%\n"
     ]
    }
   ],
   "execution_count": 93
  },
  {
   "metadata": {
    "ExecuteTime": {
     "end_time": "2025-02-03T12:15:56.946742Z",
     "start_time": "2025-02-03T12:15:51.532926Z"
    }
   },
   "cell_type": "code",
   "source": [
    "_, test_accuracy = model.evaluate(test_images, y_test_classes, verbose=0)\n",
    "print(f\"Точность на тестовых данных: {test_accuracy * 100:.2f}%\")"
   ],
   "id": "401541aa844489a6",
   "outputs": [
    {
     "name": "stdout",
     "output_type": "stream",
     "text": [
      "Точность на тестовых данных: 99.34%\n"
     ]
    }
   ],
   "execution_count": 94
  },
  {
   "metadata": {},
   "cell_type": "markdown",
   "source": "Загружаем нашу обученную модель(веса).",
   "id": "499ebc182e84e636"
  },
  {
   "metadata": {
    "ExecuteTime": {
     "end_time": "2025-02-03T12:17:10.119817Z",
     "start_time": "2025-02-03T12:17:09.988918Z"
    }
   },
   "cell_type": "code",
   "source": [
    "model_path = 'model_cnn.keras'\n",
    "loaded_model = load_model(model_path)"
   ],
   "id": "4c43b0bd31cdeff6",
   "outputs": [],
   "execution_count": 95
  },
  {
   "metadata": {},
   "cell_type": "markdown",
   "source": "Посмотрим как предсказывает модель",
   "id": "6df75e85da9d3629"
  },
  {
   "metadata": {
    "ExecuteTime": {
     "end_time": "2025-02-03T12:20:47.920647Z",
     "start_time": "2025-02-03T12:20:47.613137Z"
    }
   },
   "cell_type": "code",
   "source": [
    "selected_images = X_val[1900:1910]\n",
    "predictions = loaded_model.predict(selected_images)\n",
    "\n",
    "plt.figure(figsize=(10, 10))\n",
    "for i, (image, prediction) in enumerate(zip(selected_images, predictions), start=1):\n",
    "    # Get the predicted label\n",
    "    predicted_label = word_dict[np.argmax(prediction)]\n",
    "\n",
    "    # Plot the image\n",
    "    plt.subplot(5, 5, i)\n",
    "    plt.imshow(image[:, :, 0], cmap='gray')  # Assuming images are grayscale\n",
    "    plt.title(f'Предсказание: {predicted_label}')\n",
    "    plt.axis('off')\n",
    "\n",
    "plt.show()"
   ],
   "id": "5df93310e610b50c",
   "outputs": [
    {
     "name": "stdout",
     "output_type": "stream",
     "text": [
      "\u001B[1m1/1\u001B[0m \u001B[32m━━━━━━━━━━━━━━━━━━━━\u001B[0m\u001B[37m\u001B[0m \u001B[1m0s\u001B[0m 26ms/step\n"
     ]
    },
    {
     "data": {
      "text/plain": [
       "<Figure size 1000x1000 with 10 Axes>"
      ],
      "image/png": "[encoded data removed]"
     },
     "metadata": {},
     "output_type": "display_data"
    }
   ],
   "execution_count": 99
  }
 ],
 "metadata": {
  "kernelspec": {
   "display_name": "Python [conda env:base] *",
   "language": "python",
   "name": "conda-base-py"
  },
  "language_info": {
   "codemirror_mode": {
    "name": "ipython",
    "version": 2
   },
   "file_extension": ".py",
   "mimetype": "text/x-python",
   "name": "python",
   "nbconvert_exporter": "python",
   "pygments_lexer": "ipython2",
   "version": "2.7.6"
  }
 },
 "nbformat": 4,
 "nbformat_minor": 5
}
